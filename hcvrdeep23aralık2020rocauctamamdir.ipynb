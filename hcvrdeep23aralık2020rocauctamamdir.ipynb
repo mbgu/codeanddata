{
  "nbformat": 4,
  "nbformat_minor": 0,
  "metadata": {
    "colab": {
      "name": "hcvrdeep23aralık2020rocauctamamdir.ipynb",
      "provenance": [],
      "collapsed_sections": [],
      "toc_visible": true,
      "authorship_tag": "ABX9TyNQf4jpXowgRbf/ouhIQZjb",
      "include_colab_link": true
    },
    "kernelspec": {
      "name": "python3",
      "display_name": "Python 3"
    }
  },
  "cells": [
    {
      "cell_type": "markdown",
      "metadata": {
        "id": "view-in-github",
        "colab_type": "text"
      },
      "source": [
        "<a href=\"https://colab.research.google.com/github/mbgu/codeanddata/blob/main/hcvrdeep23aral%C4%B1k2020rocauctamamdir.ipynb\" target=\"_parent\"><img src=\"https://colab.research.google.com/assets/colab-badge.svg\" alt=\"Open In Colab\"/></a>"
      ]
    },
    {
      "cell_type": "code",
      "metadata": {
        "colab": {
          "base_uri": "https://localhost:8080/"
        },
        "id": "RRdCACKDY1SK",
        "outputId": "6d1dd1e4-c68d-419f-c083-0f70cb20d718"
      },
      "source": [
        "from google.colab import drive\n",
        "drive.mount('/content/drive')"
      ],
      "execution_count": null,
      "outputs": [
        {
          "output_type": "stream",
          "text": [
            "Drive already mounted at /content/drive; to attempt to forcibly remount, call drive.mount(\"/content/drive\", force_remount=True).\n"
          ],
          "name": "stdout"
        }
      ]
    },
    {
      "cell_type": "code",
      "metadata": {
        "colab": {
          "base_uri": "https://localhost:8080/"
        },
        "id": "fWalGn_tZKXR",
        "outputId": "1d2b8a7e-f3a4-497e-ac1e-54c92f3c9c33"
      },
      "source": [
        "#Create first network with Keras\n",
        "import keras\n",
        "from keras.models import Sequential\n",
        "from keras.layers import Dense\n",
        "import numpy\n",
        "import pandas as pd\n",
        "import sklearn\n",
        "from sklearn.preprocessing import StandardScaler\n",
        "\n",
        "seed = 33\n",
        "numpy.random.seed(seed)\n",
        "\n",
        "dataset = numpy.loadtxt('/content/drive/My Drive/HCVegypt/hcvrustuyazisiz.csv', delimiter=\",\")\n",
        "\n",
        "data=pd.DataFrame(dataset) #data is panda but dataset is something else\n",
        "print(data.head())\n",
        "# split into input (X ie dependent variables) and output (Y ie independent variables) variables\n",
        "X = dataset[:,0:20]   #0-20 columns are dependent variables - remember 20th column is not included\n",
        "Y = dataset[:,20]     #20 column is independent variable\n",
        "\n",
        "scaler = StandardScaler()\n",
        "X = scaler.fit_transform(X)\n",
        "# create model\n",
        "model = Sequential()\n",
        "\n",
        "model.add(Dense(300, activation=\"relu\", kernel_initializer=\"uniform\"))\n",
        "model.add(Dense(30, activation=\"relu\", kernel_initializer=\"uniform\"))\n",
        "model.add(Dense(1, activation=\"sigmoid\", kernel_initializer=\"uniform\")) # 1 output neuron\n",
        "\n",
        "# Compile model\n",
        "model.compile(loss='binary_crossentropy', optimizer='adam', metrics=['accuracy'])\n",
        "\n",
        "# Fit the model\n",
        "model.fit(X, Y, validation_split=0.05, epochs=30, batch_size=1, verbose=1) # 150 epoch, 10 batch size, verbose = 2\n",
        "\n",
        "_, accuracy = model.evaluate(X, Y)\n",
        "print('Accuracy: %.2f' % (accuracy*100))\n",
        "\n",
        "\n",
        "# evaluate the model\n",
        "scores = model.evaluate(X, Y)\n",
        "print(\"%s: %.2f%%\" % (model.metrics_names[1], scores[1]*100))\n",
        "\n",
        "# calculate predictions\n",
        "predictions = model.predict(X)    # predicting Y only using X\n",
        "print(predictions)\n",
        "\n",
        "# Round predictions\n",
        "rounded = [int(numpy.round(x, 0)) for x in predictions]\n",
        "print(rounded)\n",
        "\n",
        "print(\"Rounded type: \", type(rounded)) # rounded is a 'list' class\n",
        "print(\"Shape of rounded: \", len(rounded))\n",
        "print(\"Dataset type: \", type(dataset)) # numpy array?\n",
        "print(\"Shape of dataset: \", dataset.shape)\n",
        "\n",
        "# Turn rounded from a 'list' class into a numpy array\n",
        "newRounded = numpy.array(rounded)\n",
        "print(\"Rounded type: \", type(newRounded))\n",
        "\n",
        "# Add the rounded numpy array (called newRounded) to the end of the dataset numpy array\n",
        "newDataset = numpy.column_stack((dataset, newRounded))\n",
        "\n",
        "qwerty=pd.DataFrame(newDataset)\n",
        "qwerty.to_excel('hcvrprediction.xlsx',sheet_name='sheet1',index=False)\n",
        "\n",
        "# Create a confusion matrix with the actual values and predicted probabilities\n",
        "df_confusion = pd.crosstab(Y, newRounded, rownames=['Actual'], colnames=['Predicted'], margins=True)\n",
        "df_conf_norm = df_confusion / df_confusion.sum(axis=1)\n",
        "print(df_confusion)\n",
        "print(df_conf_norm)\n",
        "\n",
        "yhat=newRounded\n",
        "import numpy as np\n",
        "from sklearn.metrics import confusion_matrix\n",
        "from sklearn.metrics import cohen_kappa_score\n",
        "cm=confusion_matrix(Y, yhat)\n",
        "print(cm)\n",
        "\n",
        "TP, FP, FN, TN = confusion_matrix(Y, yhat).ravel()\n",
        "\n",
        "sensitivity  = TP / (TP+FN)\n",
        "specificity  = TN / (TN+FP)\n",
        "pos_pred_val = TP/ (TP+FP)\n",
        "neg_pred_val = TN/ (TN+FN)\n",
        "Accuracy=(TP+TN)/(TP+FP+TN+FN)\n",
        "TPR= TP/(TP+FN)\n",
        "FPR= FP/(TN+FP)\n",
        "Precision= TP/(TP+FP)\n",
        "F_Measure=(2*TP)/(2*TP+FP+FN)\n",
        "Kappa = cohen_kappa_score(Y, yhat)\n",
        "\n",
        "\n",
        "# Performance=np.array([sensitivity, specificity, pos_pred_val, neg_pred_val, Accuracy, TPR, FPR, Precision, F_Measure, Kappa])\n",
        "# Labels=np.array([\"sensitivity\", \"specificity\", \"pos_pred_val\", \"neg_pred_val\", \"Accuracy\", \"TPR\", \"FPR\", \"Precision\", \"F_Measure\", \"Kappa\"])\n",
        "\n",
        "\n",
        "print('sensitivity=', sensitivity)\n",
        "print('specificity=', specificity)\n",
        "print('pos_pred_val=', pos_pred_val)\n",
        "print('neg_pred_val=', neg_pred_val)\n",
        "print('Accuracy=', Accuracy)\n",
        "print('TPR=',TPR)\n",
        "print('FPR=', FPR)\n",
        "print('Precision=', Precision)\n",
        "print('F Measure=', F_Measure)\n",
        "print('Kappa=', Kappa)\n"
      ],
      "execution_count": null,
      "outputs": [
        {
          "output_type": "stream",
          "text": [
            "     0    1     2    3    4   ...         16        17        18    19   20\n",
            "0  59.0  1.0  32.0  1.0  1.0  ...   660410.0  338946.0  242861.0  11.0  0.0\n",
            "1  36.0  1.0  22.0  2.0  2.0  ...   137712.0   63145.0  806204.0  16.0  0.0\n",
            "2  45.0  2.0  25.0  2.0  1.0  ...   936444.0       5.0       5.0   8.0  0.0\n",
            "3  58.0  1.0  34.0  2.0  1.0  ...   614951.0  671490.0  135145.0  15.0  0.0\n",
            "4  33.0  1.0  25.0  2.0  1.0  ...  1135200.0       5.0       5.0   4.0  0.0\n",
            "\n",
            "[5 rows x 21 columns]\n",
            "Epoch 1/30\n",
            "1315/1315 [==============================] - 2s 1ms/step - loss: 0.5629 - accuracy: 0.7650 - val_loss: 1.2677 - val_accuracy: 0.0000e+00\n",
            "Epoch 2/30\n",
            "1315/1315 [==============================] - 2s 1ms/step - loss: 0.5052 - accuracy: 0.7873 - val_loss: 1.5029 - val_accuracy: 0.0000e+00\n",
            "Epoch 3/30\n",
            "1315/1315 [==============================] - 2s 1ms/step - loss: 0.5380 - accuracy: 0.7527 - val_loss: 1.5985 - val_accuracy: 0.0000e+00\n",
            "Epoch 4/30\n",
            "1315/1315 [==============================] - 2s 1ms/step - loss: 0.4815 - accuracy: 0.7927 - val_loss: 1.6478 - val_accuracy: 0.0000e+00\n",
            "Epoch 5/30\n",
            "1315/1315 [==============================] - 2s 1ms/step - loss: 0.4835 - accuracy: 0.7765 - val_loss: 1.5079 - val_accuracy: 0.0000e+00\n",
            "Epoch 6/30\n",
            "1315/1315 [==============================] - 2s 1ms/step - loss: 0.4701 - accuracy: 0.7814 - val_loss: 1.7943 - val_accuracy: 0.0000e+00\n",
            "Epoch 7/30\n",
            "1315/1315 [==============================] - 2s 1ms/step - loss: 0.4423 - accuracy: 0.7947 - val_loss: 1.3939 - val_accuracy: 0.0857\n",
            "Epoch 8/30\n",
            "1315/1315 [==============================] - 2s 1ms/step - loss: 0.4156 - accuracy: 0.8106 - val_loss: 1.2976 - val_accuracy: 0.1143\n",
            "Epoch 9/30\n",
            "1315/1315 [==============================] - 2s 1ms/step - loss: 0.4093 - accuracy: 0.8241 - val_loss: 1.6331 - val_accuracy: 0.1714\n",
            "Epoch 10/30\n",
            "1315/1315 [==============================] - 2s 1ms/step - loss: 0.4154 - accuracy: 0.7987 - val_loss: 2.0339 - val_accuracy: 0.1000\n",
            "Epoch 11/30\n",
            "1315/1315 [==============================] - 2s 1ms/step - loss: 0.3960 - accuracy: 0.8223 - val_loss: 2.2467 - val_accuracy: 0.1714\n",
            "Epoch 12/30\n",
            "1315/1315 [==============================] - 2s 1ms/step - loss: 0.3435 - accuracy: 0.8329 - val_loss: 2.0179 - val_accuracy: 0.2000\n",
            "Epoch 13/30\n",
            "1315/1315 [==============================] - 2s 1ms/step - loss: 0.3195 - accuracy: 0.8651 - val_loss: 1.8743 - val_accuracy: 0.2286\n",
            "Epoch 14/30\n",
            "1315/1315 [==============================] - 2s 1ms/step - loss: 0.2992 - accuracy: 0.8732 - val_loss: 2.7912 - val_accuracy: 0.1571\n",
            "Epoch 15/30\n",
            "1315/1315 [==============================] - 2s 1ms/step - loss: 0.2648 - accuracy: 0.8831 - val_loss: 2.6916 - val_accuracy: 0.1714\n",
            "Epoch 16/30\n",
            "1315/1315 [==============================] - 2s 1ms/step - loss: 0.2120 - accuracy: 0.9120 - val_loss: 3.5000 - val_accuracy: 0.1571\n",
            "Epoch 17/30\n",
            "1315/1315 [==============================] - 2s 1ms/step - loss: 0.1779 - accuracy: 0.9255 - val_loss: 3.8345 - val_accuracy: 0.1857\n",
            "Epoch 18/30\n",
            "1315/1315 [==============================] - 2s 1ms/step - loss: 0.1695 - accuracy: 0.9269 - val_loss: 3.5935 - val_accuracy: 0.2143\n",
            "Epoch 19/30\n",
            "1315/1315 [==============================] - 2s 1ms/step - loss: 0.1464 - accuracy: 0.9409 - val_loss: 3.8988 - val_accuracy: 0.1857\n",
            "Epoch 20/30\n",
            "1315/1315 [==============================] - 2s 1ms/step - loss: 0.1061 - accuracy: 0.9582 - val_loss: 4.4951 - val_accuracy: 0.1714\n",
            "Epoch 21/30\n",
            "1315/1315 [==============================] - 2s 1ms/step - loss: 0.1008 - accuracy: 0.9555 - val_loss: 5.2083 - val_accuracy: 0.2000\n",
            "Epoch 22/30\n",
            "1315/1315 [==============================] - 2s 1ms/step - loss: 0.0900 - accuracy: 0.9657 - val_loss: 5.6927 - val_accuracy: 0.1714\n",
            "Epoch 23/30\n",
            "1315/1315 [==============================] - 2s 1ms/step - loss: 0.0814 - accuracy: 0.9728 - val_loss: 5.3149 - val_accuracy: 0.1714\n",
            "Epoch 24/30\n",
            "1315/1315 [==============================] - 2s 1ms/step - loss: 0.0727 - accuracy: 0.9718 - val_loss: 5.6765 - val_accuracy: 0.2143\n",
            "Epoch 25/30\n",
            "1315/1315 [==============================] - 2s 1ms/step - loss: 0.0674 - accuracy: 0.9731 - val_loss: 6.8708 - val_accuracy: 0.1857\n",
            "Epoch 26/30\n",
            "1315/1315 [==============================] - 2s 1ms/step - loss: 0.0555 - accuracy: 0.9856 - val_loss: 6.1576 - val_accuracy: 0.2000\n",
            "Epoch 27/30\n",
            "1315/1315 [==============================] - 2s 1ms/step - loss: 0.0517 - accuracy: 0.9888 - val_loss: 5.4538 - val_accuracy: 0.2857\n",
            "Epoch 28/30\n",
            "1315/1315 [==============================] - 2s 1ms/step - loss: 0.0667 - accuracy: 0.9789 - val_loss: 7.1561 - val_accuracy: 0.1714\n",
            "Epoch 29/30\n",
            "1315/1315 [==============================] - 2s 1ms/step - loss: 0.0484 - accuracy: 0.9895 - val_loss: 6.3690 - val_accuracy: 0.2571\n",
            "Epoch 30/30\n",
            "1315/1315 [==============================] - 2s 1ms/step - loss: 0.0524 - accuracy: 0.9821 - val_loss: 5.8397 - val_accuracy: 0.2429\n",
            "44/44 [==============================] - 0s 2ms/step - loss: 0.3556 - accuracy: 0.9415\n",
            "Accuracy: 94.15\n",
            "44/44 [==============================] - 0s 2ms/step - loss: 0.3556 - accuracy: 0.9415\n",
            "accuracy: 94.15%\n",
            "[[1.8405110e-02]\n",
            " [7.2262179e-07]\n",
            " [2.5267191e-06]\n",
            " ...\n",
            " [1.2220442e-03]\n",
            " [9.0915489e-01]\n",
            " [2.8784275e-03]]\n",
            "[0, 0, 0, 0, 0, 0, 0, 0, 0, 0, 0, 0, 0, 0, 0, 0, 0, 0, 0, 1, 0, 0, 0, 0, 0, 0, 0, 0, 0, 0, 0, 0, 1, 1, 0, 0, 0, 0, 0, 0, 0, 0, 0, 0, 0, 0, 0, 0, 0, 0, 0, 0, 0, 0, 0, 0, 0, 0, 0, 0, 0, 0, 0, 0, 0, 0, 0, 0, 0, 0, 0, 0, 0, 0, 0, 0, 0, 0, 0, 0, 0, 0, 0, 0, 0, 0, 0, 0, 0, 0, 0, 0, 0, 0, 0, 0, 0, 0, 0, 0, 0, 0, 0, 0, 0, 0, 0, 1, 0, 0, 0, 0, 0, 0, 0, 0, 0, 0, 0, 0, 0, 0, 0, 0, 0, 0, 0, 0, 0, 0, 0, 0, 0, 0, 0, 0, 0, 0, 0, 0, 0, 0, 0, 0, 0, 0, 0, 0, 0, 0, 0, 0, 0, 0, 0, 0, 0, 0, 0, 0, 0, 0, 0, 0, 0, 0, 0, 0, 0, 0, 0, 0, 0, 0, 0, 1, 0, 0, 0, 0, 0, 0, 0, 0, 0, 0, 0, 0, 0, 0, 0, 0, 0, 0, 0, 0, 0, 0, 0, 0, 0, 0, 0, 0, 0, 0, 0, 0, 0, 0, 0, 0, 0, 0, 0, 0, 0, 0, 0, 0, 0, 0, 0, 0, 0, 0, 0, 0, 0, 0, 0, 0, 0, 0, 0, 0, 0, 0, 0, 0, 0, 0, 0, 0, 0, 0, 0, 0, 0, 0, 0, 0, 1, 0, 0, 0, 0, 0, 0, 0, 0, 0, 0, 0, 0, 0, 0, 0, 0, 0, 0, 0, 0, 0, 0, 0, 0, 0, 0, 0, 0, 0, 1, 0, 0, 0, 0, 0, 0, 0, 0, 0, 0, 0, 0, 0, 0, 0, 0, 0, 0, 0, 0, 0, 0, 0, 0, 0, 0, 0, 0, 0, 0, 0, 0, 0, 0, 0, 0, 0, 0, 0, 0, 0, 0, 0, 0, 0, 0, 0, 0, 0, 0, 0, 0, 0, 0, 0, 0, 0, 0, 0, 0, 0, 0, 0, 0, 0, 0, 0, 0, 0, 0, 0, 0, 0, 0, 0, 0, 0, 0, 0, 0, 0, 0, 0, 0, 0, 0, 0, 0, 0, 0, 0, 0, 0, 0, 0, 0, 0, 0, 0, 0, 0, 0, 0, 0, 0, 0, 0, 0, 0, 0, 0, 0, 0, 0, 0, 0, 1, 0, 0, 0, 0, 0, 0, 0, 0, 0, 0, 0, 0, 0, 0, 0, 0, 0, 0, 0, 0, 0, 0, 0, 0, 0, 0, 0, 0, 0, 0, 0, 0, 0, 0, 0, 0, 0, 0, 0, 0, 0, 0, 0, 0, 0, 0, 0, 0, 0, 0, 0, 0, 1, 0, 0, 0, 0, 0, 0, 0, 0, 0, 0, 0, 0, 0, 1, 0, 0, 0, 0, 0, 0, 0, 0, 0, 0, 0, 1, 0, 0, 0, 0, 0, 0, 0, 0, 0, 0, 0, 0, 0, 1, 0, 0, 0, 0, 0, 0, 0, 0, 0, 0, 0, 0, 0, 0, 0, 0, 0, 0, 0, 0, 0, 0, 0, 0, 0, 0, 0, 0, 0, 0, 0, 0, 0, 0, 0, 0, 0, 0, 0, 0, 0, 0, 0, 0, 0, 0, 0, 0, 0, 0, 0, 0, 0, 0, 0, 0, 0, 0, 0, 0, 0, 0, 0, 0, 0, 0, 0, 0, 0, 0, 0, 0, 0, 0, 0, 0, 0, 0, 0, 0, 0, 0, 0, 0, 0, 0, 0, 0, 0, 0, 0, 1, 0, 0, 0, 0, 1, 0, 0, 0, 0, 0, 0, 0, 0, 0, 0, 0, 0, 0, 0, 0, 0, 0, 0, 0, 0, 0, 0, 0, 0, 0, 0, 0, 0, 0, 0, 0, 0, 0, 0, 0, 0, 0, 0, 0, 0, 0, 0, 0, 0, 0, 0, 0, 0, 0, 0, 0, 0, 0, 0, 0, 0, 0, 0, 0, 0, 0, 0, 0, 0, 0, 0, 0, 0, 0, 0, 0, 0, 0, 0, 0, 0, 0, 0, 0, 0, 0, 0, 0, 0, 0, 0, 0, 0, 0, 0, 0, 0, 0, 0, 0, 0, 0, 0, 0, 0, 0, 0, 0, 0, 0, 0, 0, 0, 0, 0, 0, 0, 0, 0, 0, 0, 0, 0, 0, 0, 0, 0, 0, 0, 0, 0, 0, 0, 0, 0, 0, 0, 0, 0, 0, 0, 0, 0, 0, 0, 0, 0, 0, 0, 0, 0, 0, 0, 0, 0, 0, 0, 1, 0, 0, 0, 0, 0, 0, 0, 0, 0, 0, 0, 0, 0, 0, 0, 0, 0, 0, 0, 0, 0, 0, 0, 0, 0, 0, 0, 0, 0, 0, 0, 0, 0, 0, 0, 0, 0, 0, 0, 0, 0, 0, 0, 0, 0, 0, 0, 0, 0, 0, 0, 0, 0, 0, 0, 0, 0, 0, 0, 0, 0, 0, 0, 0, 0, 0, 0, 0, 0, 0, 0, 0, 0, 0, 0, 1, 0, 0, 0, 0, 0, 0, 0, 0, 0, 0, 0, 0, 0, 0, 0, 0, 0, 0, 1, 0, 0, 0, 0, 0, 0, 0, 1, 0, 0, 0, 0, 0, 0, 0, 0, 0, 0, 0, 0, 0, 0, 0, 0, 0, 0, 0, 0, 0, 0, 0, 0, 0, 0, 0, 0, 0, 0, 0, 0, 0, 0, 0, 0, 0, 0, 0, 0, 0, 0, 0, 0, 0, 0, 0, 0, 0, 0, 0, 0, 0, 0, 0, 0, 0, 0, 0, 0, 0, 0, 0, 0, 0, 0, 0, 0, 0, 0, 0, 0, 0, 0, 0, 0, 0, 0, 0, 0, 0, 0, 0, 0, 0, 0, 0, 0, 0, 0, 0, 0, 0, 0, 0, 0, 0, 0, 0, 0, 0, 0, 0, 1, 0, 0, 0, 0, 0, 0, 0, 0, 0, 0, 0, 0, 0, 0, 0, 0, 0, 0, 0, 0, 0, 0, 0, 0, 0, 0, 1, 0, 0, 0, 0, 0, 0, 0, 0, 0, 0, 0, 0, 0, 0, 0, 0, 0, 0, 1, 0, 0, 0, 0, 0, 0, 0, 0, 0, 0, 0, 0, 0, 0, 0, 0, 0, 0, 0, 0, 0, 0, 0, 0, 0, 0, 0, 1, 1, 1, 1, 1, 1, 1, 1, 1, 1, 1, 0, 1, 1, 1, 1, 1, 1, 1, 1, 1, 1, 1, 1, 1, 1, 1, 1, 0, 1, 1, 1, 1, 1, 1, 1, 1, 1, 1, 1, 1, 1, 1, 1, 1, 1, 1, 1, 1, 1, 1, 1, 1, 1, 1, 1, 1, 1, 1, 1, 1, 1, 1, 1, 1, 1, 1, 1, 1, 1, 1, 1, 1, 1, 1, 1, 1, 1, 1, 1, 1, 1, 1, 1, 1, 1, 1, 1, 1, 1, 1, 1, 1, 1, 1, 1, 1, 1, 0, 1, 1, 1, 1, 1, 1, 1, 1, 1, 1, 1, 1, 1, 1, 1, 1, 1, 1, 1, 1, 1, 1, 1, 1, 1, 1, 1, 1, 1, 1, 1, 1, 1, 1, 1, 1, 1, 1, 1, 1, 1, 1, 1, 1, 1, 1, 1, 1, 1, 1, 1, 1, 1, 1, 1, 1, 1, 1, 1, 1, 1, 1, 1, 1, 1, 1, 1, 1, 1, 1, 1, 1, 1, 1, 1, 1, 1, 1, 1, 1, 1, 1, 1, 1, 1, 1, 1, 1, 1, 1, 1, 1, 1, 1, 1, 1, 1, 1, 1, 1, 1, 1, 1, 1, 1, 1, 1, 1, 1, 1, 1, 1, 1, 1, 1, 1, 1, 1, 1, 1, 0, 1, 1, 0, 1, 1, 1, 1, 1, 1, 1, 1, 1, 1, 1, 1, 1, 1, 1, 1, 1, 0, 1, 1, 1, 1, 1, 1, 1, 1, 1, 1, 1, 1, 1, 1, 1, 1, 1, 1, 1, 1, 1, 1, 1, 1, 1, 1, 1, 1, 1, 0, 1, 1, 1, 1, 1, 1, 1, 1, 1, 1, 1, 1, 1, 1, 1, 1, 1, 1, 1, 1, 1, 1, 0, 0, 1, 0, 1, 0, 0, 1, 0, 0, 0, 1, 0, 0, 0, 1, 0, 0, 0, 0, 0, 0, 0, 0, 0, 0, 1, 0, 0, 0, 0, 0, 1, 0, 1, 0, 0, 0, 0, 0, 1, 0, 0, 0, 1, 0, 1, 0, 0, 0, 0, 1, 0, 1, 0, 0, 0, 0, 1, 1, 0, 0, 0, 0, 0, 0, 0, 1, 0]\n",
            "Rounded type:  <class 'list'>\n",
            "Shape of rounded:  1385\n",
            "Dataset type:  <class 'numpy.ndarray'>\n",
            "Shape of dataset:  (1385, 21)\n",
            "Rounded type:  <class 'numpy.ndarray'>\n",
            "Predicted     0    1   All\n",
            "Actual                    \n",
            "0.0        1002   21  1023\n",
            "1.0          60  302   362\n",
            "All        1062  323  1385\n",
            "Predicted         0         1       All\n",
            "Actual                                 \n",
            "0.0        0.489736  0.029006  0.369314\n",
            "1.0        0.029326  0.417127  0.130686\n",
            "All        0.519062  0.446133  0.500000\n",
            "[[1002   21]\n",
            " [  60  302]]\n",
            "sensitivity= 0.943502824858757\n",
            "specificity= 0.934984520123839\n",
            "pos_pred_val= 0.9794721407624634\n",
            "neg_pred_val= 0.8342541436464088\n",
            "Accuracy= 0.9415162454873646\n",
            "TPR= 0.943502824858757\n",
            "FPR= 0.06501547987616099\n",
            "Precision= 0.9794721407624634\n",
            "F Measure= 0.9611510791366906\n",
            "Kappa= 0.8430700278231238\n"
          ],
          "name": "stdout"
        }
      ]
    },
    {
      "cell_type": "code",
      "metadata": {
        "colab": {
          "base_uri": "https://localhost:8080/"
        },
        "id": "GnCJYgRQZ5lJ",
        "outputId": "1cd5f62e-6fca-4bcb-c2a0-46fb32ed4258"
      },
      "source": [
        "#Computing metrics\n",
        "\n",
        "yhat=newRounded\n",
        "import numpy as np\n",
        "from sklearn.metrics import confusion_matrix\n",
        "from sklearn.metrics import cohen_kappa_score\n",
        "cm=confusion_matrix(Y, yhat)\n",
        "print(cm)\n",
        "\n",
        "TP, FP, FN, TN = confusion_matrix(Y, yhat).ravel()\n",
        "\n",
        "sensitivity  = TP / (TP+FN)\n",
        "specificity  = TN / (TN+FP)\n",
        "pos_pred_val = TP/ (TP+FP)\n",
        "neg_pred_val = TN/ (TN+FN)\n",
        "Accuracy=(TP+TN)/(TP+FP+TN+FN)\n",
        "TPR= TP/(TP+FN)\n",
        "FPR= FP/(TN+FP)\n",
        "Precision= TP/(TP+FP)\n",
        "F_Measure=(2*TP)/(2*TP+FP+FN)\n",
        "Kappa = cohen_kappa_score(Y, yhat)\n",
        "\n",
        "\n",
        "# Performance=np.array([sensitivity, specificity, pos_pred_val, neg_pred_val, Accuracy, TPR, FPR, Precision, F_Measure, Kappa])\n",
        "# Labels=np.array([\"sensitivity\", \"specificity\", \"pos_pred_val\", \"neg_pred_val\", \"Accuracy\", \"TPR\", \"FPR\", \"Precision\", \"F_Measure\", \"Kappa\"])\n",
        "\n",
        "\n",
        "print('sensitivity=', sensitivity)\n",
        "print('specificity=', specificity)\n",
        "print('pos_pred_val=', pos_pred_val)\n",
        "print('neg_pred_val=', neg_pred_val)\n",
        "print('Accuracy=', Accuracy)\n",
        "print('TPR=',TPR)\n",
        "print('FPR=', FPR)\n",
        "print('Precision=', Precision)\n",
        "print('F Measure=', F_Measure)\n",
        "print('Kappa=', Kappa)\n",
        "\n",
        "\n"
      ],
      "execution_count": null,
      "outputs": [
        {
          "output_type": "stream",
          "text": [
            "[[1018    5]\n",
            " [  75  287]]\n",
            "sensitivity= 0.9313815187557182\n",
            "specificity= 0.9828767123287672\n",
            "pos_pred_val= 0.9951124144672532\n",
            "neg_pred_val= 0.7928176795580111\n",
            "Accuracy= 0.9422382671480144\n",
            "TPR= 0.9313815187557182\n",
            "FPR= 0.017123287671232876\n",
            "Precision= 0.9951124144672532\n",
            "F Measure= 0.9621928166351607\n",
            "Kappa= 0.8404336517939693\n"
          ],
          "name": "stdout"
        }
      ]
    },
    {
      "cell_type": "code",
      "metadata": {
        "colab": {
          "base_uri": "https://localhost:8080/",
          "height": 294
        },
        "id": "yu32pvvIaCFa",
        "outputId": "4f336606-4650-4a27-f243-f206513f0c5d"
      },
      "source": [
        "##Computing first ROC curve\n",
        "\n",
        "from sklearn.metrics import roc_curve\n",
        "from sklearn import metrics\n",
        "fpr, tpr, thresholds =roc_curve(Y,yhat,drop_intermediate=False)\n",
        "import matplotlib.pyplot as plt\n",
        "plt.figure()\n",
        "##Adding the ROC\n",
        "plt.plot(fpr, tpr, color='red',lw=2, label='(Accuracy = %0.2f)'%Accuracy)\n",
        "##Random FPR and TPR\n",
        "plt.plot([0, 1], [0, 1], color='blue', lw=2, linestyle='--')\n",
        "##Title and label\n",
        "plt.xlabel('FPR')\n",
        "plt.ylabel('TPR')\n",
        "plt.title('ROC curve')\n",
        "plt.legend(loc=\"lower right\")\n",
        "plt.show()\n"
      ],
      "execution_count": null,
      "outputs": [
        {
          "output_type": "display_data",
          "data": {
            "image/png": "[encoded data removed]",
            "text/plain": [
              "<Figure size 432x288 with 1 Axes>"
            ]
          },
          "metadata": {
            "tags": [],
            "needs_background": "light"
          }
        }
      ]
    },
    {
      "cell_type": "code",
      "metadata": {
        "colab": {
          "base_uri": "https://localhost:8080/",
          "height": 367
        },
        "id": "FVOUiOJhaJBC",
        "outputId": "4c8817af-242e-43b2-fd44-012a160fcab8"
      },
      "source": [
        "##Computing second ROC curve\n",
        "from sklearn.metrics import roc_curve\n",
        "from sklearn import metrics\n",
        "FPR, TPR, thresholds = roc_curve(Y, yhat)\n",
        "import matplotlib.pyplot as plt\n",
        "\n",
        "plt.figure(figsize=(10,5))  # figsize in inches\n",
        "plt.plot(FPR, TPR)\n",
        "plt.xlim([0.0, 1.0])\n",
        "plt.ylim([0.0, 1.0])\n",
        "plt.plot([0, 1], [0, 1], color='navy', lw=2, linestyle='--')  # 50%  \n",
        "plt.plot(FPR, TPR, lw=2, label='(AUC = %0.2f)' % Accuracy)\n",
        "plt.title('ROC curve for Gaussian Fuzzification of Pima Indians diabetes')\n",
        "plt.xlabel('False Positive Rate')\n",
        "plt.ylabel('True Positive Rate')\n",
        "plt.grid(True)\n",
        "plt.legend(loc=\"lower right\")"
      ],
      "execution_count": null,
      "outputs": [
        {
          "output_type": "execute_result",
          "data": {
            "text/plain": [
              "<matplotlib.legend.Legend at 0x7ff5a41e4128>"
            ]
          },
          "metadata": {
            "tags": []
          },
          "execution_count": 31
        },
        {
          "output_type": "display_data",
          "data": {
            "image/png": "[encoded data removed]",
            "text/plain": [
              "<Figure size 720x360 with 1 Axes>"
            ]
          },
          "metadata": {
            "tags": [],
            "needs_background": "light"
          }
        }
      ]
    }
  ]
}